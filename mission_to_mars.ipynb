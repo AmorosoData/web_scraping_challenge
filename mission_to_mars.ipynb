{
 "cells": [
  {
   "cell_type": "code",
   "execution_count": 1,
   "metadata": {},
   "outputs": [],
   "source": [
    "# Dependencies\n",
    "from bs4 import BeautifulSoup as bs\n",
    "from splinter import Browser\n",
    "from splinter.exceptions import ElementDoesNotExist\n",
    "import os\n",
    "import requests\n",
    "import pandas as pd\n",
    "import time"
   ]
  },
  {
   "cell_type": "code",
   "execution_count": 2,
   "metadata": {},
   "outputs": [],
   "source": [
    "executable_path = {'executable_path': '/usr/local/bin/chromedriver'}\n",
    "browser = Browser('chrome', **executable_path, headless=False)\n",
    "\n",
    "# Read HTML from website\n",
    "url = \"https://mars.nasa.gov/news/?page=0&per_page=40&order=publish_date+desc%2Ccreated_at+desc&search=&category=19%2C165%2C184%2C204&blank_scope=Latest\"\n",
    "\n",
    "browser.visit(url)"
   ]
  },
  {
   "cell_type": "code",
   "execution_count": 3,
   "metadata": {},
   "outputs": [],
   "source": [
    "# Create a Beautiful Soup object\n",
    "html = browser.html\n",
    "soup = bs(html, 'html.parser')"
   ]
  },
  {
   "cell_type": "code",
   "execution_count": 4,
   "metadata": {},
   "outputs": [],
   "source": [
    "# Examine the results, then determine element that contains title and paragraph\n",
    "# print(soup.prettify())"
   ]
  },
  {
   "cell_type": "markdown",
   "metadata": {},
   "source": [
    "## NASA Mars News"
   ]
  },
  {
   "cell_type": "code",
   "execution_count": 5,
   "metadata": {},
   "outputs": [
    {
     "name": "stdout",
     "output_type": "stream",
     "text": [
      "AI Is Helping Scientists Discover Fresh Craters on Mars\n",
      "It's the first time machine learning has been used to find previously unknown craters on the Red Planet.\n"
     ]
    }
   ],
   "source": [
    "news_title = soup.find(\"li\", class_=\"slide\").find(\"div\", class_=\"content_title\").text\n",
    "print(news_title)\n",
    "news_p = soup.find(\"li\", class_=\"slide\").find(\"div\", class_=\"article_teaser_body\").text\n",
    "print(news_p)"
   ]
  },
  {
   "cell_type": "markdown",
   "metadata": {},
   "source": [
    "## JPL Mars Space Images - Featured Image"
   ]
  },
  {
   "cell_type": "code",
   "execution_count": 6,
   "metadata": {},
   "outputs": [],
   "source": [
    "# Visit/Set the url for JPL Featured Space Image\n",
    "url=\"https://www.jpl.nasa.gov/spaceimages/?search=&category=Mars\"\n",
    "browser.visit(url)"
   ]
  },
  {
   "cell_type": "code",
   "execution_count": 7,
   "metadata": {},
   "outputs": [],
   "source": [
    "featured_img_button = browser.find_by_id('full_image')[0]\n",
    "featured_img_button.click()\n",
    "browser.is_element_present_by_text('more info',wait_time =2)\n",
    "more_info_button = browser.links.find_by_partial_text('more info')\n",
    "more_info_button.click()"
   ]
  },
  {
   "cell_type": "code",
   "execution_count": 8,
   "metadata": {},
   "outputs": [],
   "source": [
    "# Create a Beautiful Soup object\n",
    "html = browser.html\n",
    "soup = bs(html, 'html.parser')"
   ]
  },
  {
   "cell_type": "code",
   "execution_count": 9,
   "metadata": {},
   "outputs": [],
   "source": [
    "# print(soup.prettify())"
   ]
  },
  {
   "cell_type": "code",
   "execution_count": 10,
   "metadata": {},
   "outputs": [],
   "source": [
    "featured_img = soup.select_one(\"figure.lede a img\").get(\"src\")\n",
    "# featured_img\n",
    "featured_img = (f\" https://www.jpl.nasa.gov{featured_img}\")"
   ]
  },
  {
   "cell_type": "markdown",
   "metadata": {},
   "source": [
    "## Mars Facts"
   ]
  },
  {
   "cell_type": "code",
   "execution_count": 11,
   "metadata": {},
   "outputs": [
    {
     "data": {
      "text/html": [
       "<div>\n",
       "<style scoped>\n",
       "    .dataframe tbody tr th:only-of-type {\n",
       "        vertical-align: middle;\n",
       "    }\n",
       "\n",
       "    .dataframe tbody tr th {\n",
       "        vertical-align: top;\n",
       "    }\n",
       "\n",
       "    .dataframe thead th {\n",
       "        text-align: right;\n",
       "    }\n",
       "</style>\n",
       "<table border=\"1\" class=\"dataframe\">\n",
       "  <thead>\n",
       "    <tr style=\"text-align: right;\">\n",
       "      <th></th>\n",
       "      <th>Facts</th>\n",
       "      <th>Measure</th>\n",
       "    </tr>\n",
       "  </thead>\n",
       "  <tbody>\n",
       "    <tr>\n",
       "      <th>0</th>\n",
       "      <td>Equatorial Diameter:</td>\n",
       "      <td>6,792 km</td>\n",
       "    </tr>\n",
       "    <tr>\n",
       "      <th>1</th>\n",
       "      <td>Polar Diameter:</td>\n",
       "      <td>6,752 km</td>\n",
       "    </tr>\n",
       "    <tr>\n",
       "      <th>2</th>\n",
       "      <td>Mass:</td>\n",
       "      <td>6.39 × 10^23 kg (0.11 Earths)</td>\n",
       "    </tr>\n",
       "    <tr>\n",
       "      <th>3</th>\n",
       "      <td>Moons:</td>\n",
       "      <td>2 (Phobos &amp; Deimos)</td>\n",
       "    </tr>\n",
       "    <tr>\n",
       "      <th>4</th>\n",
       "      <td>Orbit Distance:</td>\n",
       "      <td>227,943,824 km (1.38 AU)</td>\n",
       "    </tr>\n",
       "    <tr>\n",
       "      <th>5</th>\n",
       "      <td>Orbit Period:</td>\n",
       "      <td>687 days (1.9 years)</td>\n",
       "    </tr>\n",
       "    <tr>\n",
       "      <th>6</th>\n",
       "      <td>Surface Temperature:</td>\n",
       "      <td>-87 to -5 °C</td>\n",
       "    </tr>\n",
       "    <tr>\n",
       "      <th>7</th>\n",
       "      <td>First Record:</td>\n",
       "      <td>2nd millennium BC</td>\n",
       "    </tr>\n",
       "    <tr>\n",
       "      <th>8</th>\n",
       "      <td>Recorded By:</td>\n",
       "      <td>Egyptian astronomers</td>\n",
       "    </tr>\n",
       "  </tbody>\n",
       "</table>\n",
       "</div>"
      ],
      "text/plain": [
       "                  Facts                        Measure\n",
       "0  Equatorial Diameter:                       6,792 km\n",
       "1       Polar Diameter:                       6,752 km\n",
       "2                 Mass:  6.39 × 10^23 kg (0.11 Earths)\n",
       "3                Moons:            2 (Phobos & Deimos)\n",
       "4       Orbit Distance:       227,943,824 km (1.38 AU)\n",
       "5         Orbit Period:           687 days (1.9 years)\n",
       "6  Surface Temperature:                   -87 to -5 °C\n",
       "7         First Record:              2nd millennium BC\n",
       "8          Recorded By:           Egyptian astronomers"
      ]
     },
     "execution_count": 11,
     "metadata": {},
     "output_type": "execute_result"
    }
   ],
   "source": [
    "# Visit/Set the url to scrape the table \n",
    "mars_facts_url = \"https://space-facts.com/mars/\"\n",
    "#scrape pandas for table containing facts about the planet including Diameter, Mass, etc.\n",
    "table = pd.read_html(mars_facts_url)\n",
    "mars_df= table[0]\n",
    "\n",
    "mars_df.columns = [\"Facts\", \"Measure\"]\n",
    "mars_df"
   ]
  },
  {
   "cell_type": "code",
   "execution_count": 12,
   "metadata": {},
   "outputs": [],
   "source": [
    "#convert to html\n",
    "mars_table = mars_df.to_html(classes='data table', index=False, header=False, border=0)\n",
    "\n",
    "# print(mars_table)"
   ]
  },
  {
   "cell_type": "markdown",
   "metadata": {},
   "source": [
    "# Mars Hemispheres"
   ]
  },
  {
   "cell_type": "code",
   "execution_count": 15,
   "metadata": {},
   "outputs": [],
   "source": [
    "executable_path = {\"executable_path\": \"chromedriver\"}\n",
    "browser = Browser(\"chrome\", **executable_path, headless=True)\n",
    "base_url = 'https://astrogeology.usgs.gov/search/results?q=hemisphere+enhanced&k1=target&v1=Mars'\n",
    "browser.visit(url)\n",
    "\n",
    "html = browser.html\n",
    "soup = bs(html, 'html.parser')"
   ]
  },
  {
   "cell_type": "code",
   "execution_count": 21,
   "metadata": {},
   "outputs": [
    {
     "name": "stdout",
     "output_type": "stream",
     "text": [
      "[<h3 class=\"nav_title\">\n",
      "<a href=\"/about\">about JPL</a>\n",
      "</h3>, <h3 class=\"nav_title\">\n",
      "<a href=\"/events\">public events</a>\n",
      "</h3>, <h3 class=\"nav_title\">\n",
      "<a href=\"/edu/\">education</a>\n",
      "</h3>, <h3 class=\"nav_title\">\n",
      "<a href=\"/news\">news</a>\n",
      "</h3>, <h3 class=\"nav_title\">\n",
      "<a href=\"/missions/\">missions</a>\n",
      "</h3>, <h3 class=\"nav_title\">\n",
      "<a href=\"/spaceimages\">galleries</a>\n",
      "</h3>, <h3 class=\"nav_title\"><a href=\"/social\">Follow JPL</a></h3>, <h3 class=\"release_date\">October 2, 2020</h3>, <h3 class=\"release_date\">October 1, 2020</h3>, <h3 class=\"release_date\">October 1, 2020</h3>, <h3 class=\"release_date\">October 1, 2020</h3>, <h3 class=\"release_date\">September 30, 2020</h3>, <h3 class=\"release_date\">September 29, 2020</h3>, <h3 class=\"release_date\">September 28, 2020</h3>, <h3 class=\"release_date\">September 25, 2020</h3>, <h3 class=\"release_date\">September 24, 2020</h3>, <h3 class=\"release_date\">September 23, 2020</h3>, <h3 class=\"release_date\">September 22, 2020</h3>, <h3 class=\"release_date\">September 21, 2020</h3>, <h3 class=\"release_date\">September 21, 2020</h3>, <h3 class=\"release_date\">September 18, 2020</h3>, <h3 class=\"release_date\">September 17, 2020</h3>, <h3 class=\"release_date\">September 16, 2020</h3>, <h3 class=\"release_date\">September 15, 2020</h3>, <h3 class=\"release_date\">September 14, 2020</h3>, <h3 class=\"release_date\">September 11, 2020</h3>, <h3 class=\"release_date\">September 10, 2020</h3>, <h3 class=\"release_date\">September 9, 2020</h3>, <h3 class=\"release_date\">September 8, 2020</h3>, <h3 class=\"release_date\">September 7, 2020</h3>, <h3 class=\"release_date\">September 4, 2020</h3>, <h3 class=\"release_date\">September 3, 2020</h3>, <h3 class=\"release_date\">September 2, 2020</h3>, <h3 class=\"release_date\">September 1, 2020</h3>, <h3 class=\"release_date\">September 1, 2020</h3>, <h3 class=\"release_date\">August 31, 2020</h3>, <h3 class=\"release_date\">August 27, 2020</h3>, <h3 class=\"release_date\">August 26, 2020</h3>, <h3 class=\"release_date\">August 25, 2020</h3>, <h3 class=\"sitemap_title\">\n",
      "                      about JPL\n",
      "                    </h3>, <h3 class=\"sitemap_title\">\n",
      "                      missions\n",
      "                    </h3>, <h3 class=\"sitemap_title\">\n",
      "                      education\n",
      "                    </h3>, <h3 class=\"sitemap_title\">\n",
      "                      news\n",
      "                    </h3>, <h3 class=\"sitemap_title\">\n",
      "                      public events</h3>, <h3 class=\"sitemap_title\">\n",
      "                      Our Sites\n",
      "                    </h3>, <h3 class=\"sitemap_title\">\n",
      "                      galleries\n",
      "                    </h3>, <h3 class=\"sitemap_title\">\n",
      "                      Follow JPL\n",
      "                    </h3>, <h3 class=\"sitemap_title\">\n",
      "                      NASA\n",
      "                    </h3>]\n"
     ]
    }
   ],
   "source": [
    "hem_img_urls = []\n",
    "hem_dict = {'title': [], 'img_url': [],}\n",
    "\n",
    "x = soup.find_all('h3')\n",
    "print(x)\n",
    "\n",
    "# for i in x:\n",
    "#     t = i.get_text()\n",
    "#     title = t.strip('Enhanced')\n",
    "#     browser.click_link_by_partial_text(t)\n",
    "#     url = browser.find_link_by_partial_href('download')['href']\n",
    "#     hem_dict = {'title': title, 'img_url': url}\n",
    "#     hem_img_urls.append(hem_dict)\n",
    "#     browser.visit(base_url)\n",
    "# print(hem_img_urls)"
   ]
  },
  {
   "cell_type": "code",
   "execution_count": 18,
   "metadata": {},
   "outputs": [],
   "source": [
    "browser.quit()"
   ]
  }
 ],
 "metadata": {
  "kernelspec": {
   "display_name": "Python 3",
   "language": "python",
   "name": "python3"
  },
  "language_info": {
   "codemirror_mode": {
    "name": "ipython",
    "version": 3
   },
   "file_extension": ".py",
   "mimetype": "text/x-python",
   "name": "python",
   "nbconvert_exporter": "python",
   "pygments_lexer": "ipython3",
   "version": "3.6.10"
  }
 },
 "nbformat": 4,
 "nbformat_minor": 4
}
